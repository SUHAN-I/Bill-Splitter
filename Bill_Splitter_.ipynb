{
  "nbformat": 4,
  "nbformat_minor": 0,
  "metadata": {
    "colab": {
      "provenance": []
    },
    "kernelspec": {
      "name": "python3",
      "display_name": "Python 3"
    },
    "language_info": {
      "name": "python"
    }
  },
  "cells": [
    {
      "cell_type": "code",
      "execution_count": 5,
      "metadata": {
        "colab": {
          "base_uri": "https://localhost:8080/"
        },
        "id": "Sqc_NqmaM5YO",
        "outputId": "83648ba7-03a2-4c43-fcc7-a16d3f25e8b9"
      },
      "outputs": [
        {
          "output_type": "stream",
          "name": "stdout",
          "text": [
            "Welcome to the Bill Splitter!\n",
            "\n",
            "-----------------------------\n",
            "Enter the total bill amount: 100\n",
            "Enter the number of people: 2\n",
            "Enter the tip percentage: 0\n",
            "\n",
            "Each person should pay: $50.00\n"
          ]
        }
      ],
      "source": [
        "# 1. Creating Class\n",
        "class BillSplitter:\n",
        "    def __init__(self, total_bill, num_people, tip_percent=0):\n",
        "        self.total_bill = total_bill\n",
        "        self.num_people = num_people\n",
        "        self.tip_percent = tip_percent\n",
        "\n",
        "    def calculate_total_with_tip(self):\n",
        "        tip_amount = self.total_bill * (self.tip_percent / 100)\n",
        "        total_with_tip = self.total_bill + tip_amount\n",
        "        return total_with_tip\n",
        "\n",
        "    def calculate_share(self):\n",
        "        total_with_tip = self.calculate_total_with_tip()\n",
        "        share_per_person = total_with_tip / self.num_people\n",
        "        return share_per_person\n",
        "\n",
        "\n",
        "# 2. Function for user inputs\n",
        "def get_user_input():\n",
        "    total_bill = float(input(\"Enter the total bill amount: \"))\n",
        "    num_people = int(input(\"Enter the number of people: \"))\n",
        "    tip_percent = float(input(\"Enter the tip percentage: \"))\n",
        "    return total_bill, num_people, tip_percent\n",
        "\n",
        "\n",
        "# 3. Main function\n",
        "def main():\n",
        "    print(\"Welcome to the Bill Splitter!\\n\")\n",
        "    print(\"-----------------------------\")\n",
        "    total_bill, num_people, tip_percent = get_user_input()\n",
        "\n",
        "    bill_splitter = BillSplitter(total_bill, num_people, tip_percent)\n",
        "    share_per_person = bill_splitter.calculate_share()\n",
        "    print(f\"\\nEach person should pay: ${share_per_person:.2f}\")\n",
        "\n",
        "\n",
        "# 4. Calling main function\n",
        "main()"
      ]
    },
    {
      "cell_type": "code",
      "source": [],
      "metadata": {
        "id": "nMKapxsaOXtc"
      },
      "execution_count": null,
      "outputs": []
    }
  ]
}